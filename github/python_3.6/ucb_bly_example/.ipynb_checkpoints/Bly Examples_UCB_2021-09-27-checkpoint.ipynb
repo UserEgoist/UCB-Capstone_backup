{
 "cells": [
  {
   "cell_type": "markdown",
   "id": "81291259-ab9a-465f-91d9-7d1b697ca6c7",
   "metadata": {},
   "source": [
    "# Bly Practice\n",
    "\n",
    "Ingesting features from Bly project, serialized to a geojson feature collection."
   ]
  },
  {
   "cell_type": "code",
   "execution_count": 1,
   "id": "f1e41b50-0232-42f5-ab7e-2f6fd545cd08",
   "metadata": {},
   "outputs": [],
   "source": [
    "import json\n",
    "import os\n",
    "\n",
    "import matplotlib.pyplot as plt"
   ]
  },
  {
   "cell_type": "code",
   "execution_count": 2,
   "id": "338a5443-e39b-477d-87c2-ba374b8a9400",
   "metadata": {},
   "outputs": [],
   "source": [
    "with open('bly.geojson', 'r') as f:\n",
    "    bly_features = json.load(f)"
   ]
  },
  {
   "cell_type": "code",
   "execution_count": 6,
   "id": "253a28dd-65a1-409c-8788-c7638ccec8f8",
   "metadata": {},
   "outputs": [],
   "source": [
    "from hardhat.components import Tracker, Table"
   ]
  },
  {
   "cell_type": "code",
   "execution_count": 7,
   "id": "36c5be83-fcae-496c-b7be-40f17c61a3ea",
   "metadata": {},
   "outputs": [
    {
     "data": {
      "text/plain": [
       "{'type': 'Feature',\n",
       " 'properties': {'terabase': {'id': '3a7a90bc-9f3c-462a-9bf5-5b80fd98ebeb',\n",
       "   'x': None,\n",
       "   'y': None,\n",
       "   'table_type': 'Module Core Block 6MP type_3',\n",
       "   'tracker_id': 'f0146b9a-5cc9-430f-9038-48f7f7351e82',\n",
       "   'type': 'Table',\n",
       "   'num_modules': 6}},\n",
       " 'geometry': {'type': 'Polygon',\n",
       "  'coordinates': [[[-121.02189742413552, 42.37790525920956],\n",
       "    [-121.02187369778079, 42.37790525863459],\n",
       "    [-121.0218736954541, 42.3779578135627],\n",
       "    [-121.02189742182863, 42.377957814137666],\n",
       "    [-121.02189742413552, 42.37790525920956]]]}}"
      ]
     },
     "execution_count": 7,
     "metadata": {},
     "output_type": "execute_result"
    }
   ],
   "source": [
    "bly_features['features'][1000]"
   ]
  },
  {
   "cell_type": "code",
   "execution_count": 8,
   "id": "1a2b0316-bdae-4c1a-b84d-8fd635c58371",
   "metadata": {},
   "outputs": [],
   "source": [
    "from hardhat.gis.geojson import transformer_from_geom"
   ]
  },
  {
   "cell_type": "code",
   "execution_count": 9,
   "id": "e32cecf9-576b-4fa6-8fc3-aa234575a153",
   "metadata": {},
   "outputs": [],
   "source": [
    "to_utm, to_wgs = transformer_from_geom(bly_features['features'][0]['geometry'])"
   ]
  },
  {
   "cell_type": "code",
   "execution_count": 10,
   "id": "520d553c-885f-41be-97c0-3804c8ca3932",
   "metadata": {},
   "outputs": [
    {
     "name": "stdout",
     "output_type": "stream",
     "text": [
      "CPU times: user 95.9 ms, sys: 2.2 ms, total: 98.1 ms\n",
      "Wall time: 97.1 ms\n"
     ]
    }
   ],
   "source": [
    "%%time\n",
    "trackers = [Tracker.from_geojson(f, to_utm=to_utm, to_wgs=to_wgs) for f in bly_features['features'] if f['properties']['terabase']['type'] == 'Tracker']"
   ]
  },
  {
   "cell_type": "markdown",
   "id": "9c76f36c-7ae2-488b-ab4f-7e69d516b2fb",
   "metadata": {},
   "source": [
    "We have zero tables and modules because we haven't associated any of those objects yet."
   ]
  },
  {
   "cell_type": "code",
   "execution_count": 11,
   "id": "5873f4d8-0c5d-4328-8912-da4c93e1be35",
   "metadata": {},
   "outputs": [
    {
     "name": "stdout",
     "output_type": "stream",
     "text": [
      "134cb0d3-8125-4e71-afd5-c577b15b7dd0: (662818.985, 4693887.945)\n",
      "0 tables\n",
      "0 modules\n"
     ]
    }
   ],
   "source": [
    "print(trackers[0])\n",
    "print(trackers[0].num_tables, 'tables')\n",
    "print(trackers[0].num_modules, 'modules')"
   ]
  },
  {
   "cell_type": "code",
   "execution_count": 12,
   "id": "a22a9231-ec04-4a86-b6e2-b7e4cea95a98",
   "metadata": {},
   "outputs": [
    {
     "data": {
      "image/png": "[encoded data removed]",
      "text/plain": [
       "<Figure size 576x576 with 1 Axes>"
      ]
     },
     "metadata": {
      "needs_background": "light"
     },
     "output_type": "display_data"
    }
   ],
   "source": [
    "plt.figure(figsize=(8,8))\n",
    "for t in trackers:\n",
    "    t.plot(geom_kwargs={'fc':'black', 'alpha': 0.5})\n",
    "    \n",
    "plt.gca().autoscale()\n",
    "#     plt.xlim(-121.03, -121.02)\n",
    "#     plt.ylim(42.37, 42.38)"
   ]
  },
  {
   "cell_type": "code",
   "execution_count": 13,
   "id": "ac7d2086-85e7-4427-aa4d-153a315b5410",
   "metadata": {},
   "outputs": [
    {
     "name": "stdout",
     "output_type": "stream",
     "text": [
      "CPU times: user 795 ms, sys: 8.63 ms, total: 804 ms\n",
      "Wall time: 802 ms\n"
     ]
    }
   ],
   "source": [
    "%%time\n",
    "tables = [Table.from_geojson(f, to_utm=to_utm, to_wgs=to_wgs) for f in bly_features['features'] if f['properties']['terabase']['type'] == 'Table']"
   ]
  },
  {
   "cell_type": "markdown",
   "id": "66aa1a37-33b8-46bd-a799-f24cbf6d25cf",
   "metadata": {},
   "source": [
    "But we do have info about the module counts of the tables..."
   ]
  },
  {
   "cell_type": "code",
   "execution_count": 14,
   "id": "b383d86e-8619-46d5-b385-c25e67f3bf31",
   "metadata": {},
   "outputs": [
    {
     "name": "stdout",
     "output_type": "stream",
     "text": [
      "80e436a7-32e6-4302-8bec-ff58d2bda6d8: (662612.736, 4694107.196)\n",
      "6\n"
     ]
    }
   ],
   "source": [
    "print(tables[0])\n",
    "print(tables[0].num_modules)"
   ]
  },
  {
   "cell_type": "markdown",
   "id": "e9a5ccc8-9658-4ed4-96af-1ba8cbe0c2c6",
   "metadata": {},
   "source": [
    "Assign tables to trackers... really not that bad once the tables have been created."
   ]
  },
  {
   "cell_type": "code",
   "execution_count": 15,
   "id": "ca19f891-c2db-4c34-8dd8-9f1dc60008d4",
   "metadata": {},
   "outputs": [
    {
     "name": "stdout",
     "output_type": "stream",
     "text": [
      "CPU times: user 229 ms, sys: 2.3 ms, total: 232 ms\n",
      "Wall time: 230 ms\n"
     ]
    }
   ],
   "source": [
    "%%time\n",
    "\n",
    "for tr in trackers:\n",
    "    tr.assign_tables(tables)"
   ]
  },
  {
   "cell_type": "markdown",
   "id": "69fa791c-32f3-4807-b8fd-39d3b63215f5",
   "metadata": {},
   "source": [
    "Now we do have info about module and table counts for each tracker..."
   ]
  },
  {
   "cell_type": "code",
   "execution_count": 16,
   "id": "0d2ffb38-448f-488a-af4a-e3ad90a65a25",
   "metadata": {},
   "outputs": [
    {
     "name": "stdout",
     "output_type": "stream",
     "text": [
      "134cb0d3-8125-4e71-afd5-c577b15b7dd0: (662818.985, 4693887.945)\n",
      "10 tables\n",
      "72 modules\n"
     ]
    }
   ],
   "source": [
    "print(trackers[0])\n",
    "print(trackers[0].num_tables, 'tables')\n",
    "print(trackers[0].num_modules, 'modules')"
   ]
  },
  {
   "cell_type": "markdown",
   "id": "54fe6875-b1ed-45e6-a2aa-dcb0eb897fa1",
   "metadata": {},
   "source": [
    "*SLOWWWWW* plotting for all the tables"
   ]
  },
  {
   "cell_type": "code",
   "execution_count": 17,
   "id": "953eb332-d625-49bd-ada5-7f033de1e451",
   "metadata": {},
   "outputs": [
    {
     "data": {
      "image/png": "[encoded data removed]",
      "text/plain": [
       "<Figure size 576x576 with 1 Axes>"
      ]
     },
     "metadata": {
      "needs_background": "light"
     },
     "output_type": "display_data"
    }
   ],
   "source": [
    "plt.figure(figsize=(8,8))\n",
    "for tab in tables:\n",
    "    tab.plot(geom_kwargs={'fc': 'red', 'alpha': 0.5})\n",
    "    \n",
    "plt.gca().autoscale()"
   ]
  }
 ],
 "metadata": {
  "kernelspec": {
   "display_name": "Python 3",
   "language": "python",
   "name": "python3"
  },
  "language_info": {
   "codemirror_mode": {
    "name": "ipython",
    "version": 3
   },
   "file_extension": ".py",
   "mimetype": "text/x-python",
   "name": "python",
   "nbconvert_exporter": "python",
   "pygments_lexer": "ipython3",
   "version": "3.9.6"
  }
 },
 "nbformat": 4,
 "nbformat_minor": 5
}
